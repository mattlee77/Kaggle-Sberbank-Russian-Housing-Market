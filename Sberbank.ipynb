{
 "cells": [
  {
   "cell_type": "code",
   "execution_count": 1,
   "metadata": {},
   "outputs": [
    {
     "name": "stderr",
     "output_type": "stream",
     "text": [
      "/Users/mattlee/anaconda/envs/Python3/lib/python3.6/site-packages/IPython/html.py:14: ShimWarning: The `IPython.html` package has been deprecated since IPython 4.0. You should import from `notebook` instead. `IPython.html.widgets` has moved to `ipywidgets`.\n",
      "  \"`IPython.html.widgets` has moved to `ipywidgets`.\", ShimWarning)\n"
     ]
    }
   ],
   "source": [
    "import pandas as pd\n",
    "import numpy as np\n",
    "import matplotlib.pyplot as plt\n",
    "import seaborn as sns\n",
    "%matplotlib inline"
   ]
  },
  {
   "cell_type": "code",
   "execution_count": 2,
   "metadata": {
    "collapsed": true
   },
   "outputs": [],
   "source": [
    "df = pd.read_csv('train.csv')"
   ]
  },
  {
   "cell_type": "code",
   "execution_count": 3,
   "metadata": {},
   "outputs": [
    {
     "data": {
      "text/html": [
       "<div>\n",
       "<style>\n",
       "    .dataframe thead tr:only-child th {\n",
       "        text-align: right;\n",
       "    }\n",
       "\n",
       "    .dataframe thead th {\n",
       "        text-align: left;\n",
       "    }\n",
       "\n",
       "    .dataframe tbody tr th {\n",
       "        vertical-align: top;\n",
       "    }\n",
       "</style>\n",
       "<table border=\"1\" class=\"dataframe\">\n",
       "  <thead>\n",
       "    <tr style=\"text-align: right;\">\n",
       "      <th></th>\n",
       "      <th>id</th>\n",
       "      <th>timestamp</th>\n",
       "      <th>full_sq</th>\n",
       "      <th>life_sq</th>\n",
       "      <th>floor</th>\n",
       "      <th>max_floor</th>\n",
       "      <th>material</th>\n",
       "      <th>build_year</th>\n",
       "      <th>num_room</th>\n",
       "      <th>kitch_sq</th>\n",
       "      <th>...</th>\n",
       "      <th>cafe_count_5000_price_2500</th>\n",
       "      <th>cafe_count_5000_price_4000</th>\n",
       "      <th>cafe_count_5000_price_high</th>\n",
       "      <th>big_church_count_5000</th>\n",
       "      <th>church_count_5000</th>\n",
       "      <th>mosque_count_5000</th>\n",
       "      <th>leisure_count_5000</th>\n",
       "      <th>sport_count_5000</th>\n",
       "      <th>market_count_5000</th>\n",
       "      <th>price_doc</th>\n",
       "    </tr>\n",
       "  </thead>\n",
       "  <tbody>\n",
       "    <tr>\n",
       "      <th>0</th>\n",
       "      <td>1</td>\n",
       "      <td>2011-08-20</td>\n",
       "      <td>43</td>\n",
       "      <td>27.0</td>\n",
       "      <td>4.0</td>\n",
       "      <td>NaN</td>\n",
       "      <td>NaN</td>\n",
       "      <td>NaN</td>\n",
       "      <td>NaN</td>\n",
       "      <td>NaN</td>\n",
       "      <td>...</td>\n",
       "      <td>9</td>\n",
       "      <td>4</td>\n",
       "      <td>0</td>\n",
       "      <td>13</td>\n",
       "      <td>22</td>\n",
       "      <td>1</td>\n",
       "      <td>0</td>\n",
       "      <td>52</td>\n",
       "      <td>4</td>\n",
       "      <td>5850000</td>\n",
       "    </tr>\n",
       "    <tr>\n",
       "      <th>1</th>\n",
       "      <td>2</td>\n",
       "      <td>2011-08-23</td>\n",
       "      <td>34</td>\n",
       "      <td>19.0</td>\n",
       "      <td>3.0</td>\n",
       "      <td>NaN</td>\n",
       "      <td>NaN</td>\n",
       "      <td>NaN</td>\n",
       "      <td>NaN</td>\n",
       "      <td>NaN</td>\n",
       "      <td>...</td>\n",
       "      <td>15</td>\n",
       "      <td>3</td>\n",
       "      <td>0</td>\n",
       "      <td>15</td>\n",
       "      <td>29</td>\n",
       "      <td>1</td>\n",
       "      <td>10</td>\n",
       "      <td>66</td>\n",
       "      <td>14</td>\n",
       "      <td>6000000</td>\n",
       "    </tr>\n",
       "    <tr>\n",
       "      <th>2</th>\n",
       "      <td>3</td>\n",
       "      <td>2011-08-27</td>\n",
       "      <td>43</td>\n",
       "      <td>29.0</td>\n",
       "      <td>2.0</td>\n",
       "      <td>NaN</td>\n",
       "      <td>NaN</td>\n",
       "      <td>NaN</td>\n",
       "      <td>NaN</td>\n",
       "      <td>NaN</td>\n",
       "      <td>...</td>\n",
       "      <td>10</td>\n",
       "      <td>3</td>\n",
       "      <td>0</td>\n",
       "      <td>11</td>\n",
       "      <td>27</td>\n",
       "      <td>0</td>\n",
       "      <td>4</td>\n",
       "      <td>67</td>\n",
       "      <td>10</td>\n",
       "      <td>5700000</td>\n",
       "    </tr>\n",
       "    <tr>\n",
       "      <th>3</th>\n",
       "      <td>4</td>\n",
       "      <td>2011-09-01</td>\n",
       "      <td>89</td>\n",
       "      <td>50.0</td>\n",
       "      <td>9.0</td>\n",
       "      <td>NaN</td>\n",
       "      <td>NaN</td>\n",
       "      <td>NaN</td>\n",
       "      <td>NaN</td>\n",
       "      <td>NaN</td>\n",
       "      <td>...</td>\n",
       "      <td>11</td>\n",
       "      <td>2</td>\n",
       "      <td>1</td>\n",
       "      <td>4</td>\n",
       "      <td>4</td>\n",
       "      <td>0</td>\n",
       "      <td>0</td>\n",
       "      <td>26</td>\n",
       "      <td>3</td>\n",
       "      <td>13100000</td>\n",
       "    </tr>\n",
       "    <tr>\n",
       "      <th>4</th>\n",
       "      <td>5</td>\n",
       "      <td>2011-09-05</td>\n",
       "      <td>77</td>\n",
       "      <td>77.0</td>\n",
       "      <td>4.0</td>\n",
       "      <td>NaN</td>\n",
       "      <td>NaN</td>\n",
       "      <td>NaN</td>\n",
       "      <td>NaN</td>\n",
       "      <td>NaN</td>\n",
       "      <td>...</td>\n",
       "      <td>319</td>\n",
       "      <td>108</td>\n",
       "      <td>17</td>\n",
       "      <td>135</td>\n",
       "      <td>236</td>\n",
       "      <td>2</td>\n",
       "      <td>91</td>\n",
       "      <td>195</td>\n",
       "      <td>14</td>\n",
       "      <td>16331452</td>\n",
       "    </tr>\n",
       "  </tbody>\n",
       "</table>\n",
       "<p>5 rows × 292 columns</p>\n",
       "</div>"
      ],
      "text/plain": [
       "   id   timestamp  full_sq  life_sq  floor  max_floor  material  build_year  \\\n",
       "0   1  2011-08-20       43     27.0    4.0        NaN       NaN         NaN   \n",
       "1   2  2011-08-23       34     19.0    3.0        NaN       NaN         NaN   \n",
       "2   3  2011-08-27       43     29.0    2.0        NaN       NaN         NaN   \n",
       "3   4  2011-09-01       89     50.0    9.0        NaN       NaN         NaN   \n",
       "4   5  2011-09-05       77     77.0    4.0        NaN       NaN         NaN   \n",
       "\n",
       "   num_room  kitch_sq    ...      cafe_count_5000_price_2500  \\\n",
       "0       NaN       NaN    ...                               9   \n",
       "1       NaN       NaN    ...                              15   \n",
       "2       NaN       NaN    ...                              10   \n",
       "3       NaN       NaN    ...                              11   \n",
       "4       NaN       NaN    ...                             319   \n",
       "\n",
       "  cafe_count_5000_price_4000 cafe_count_5000_price_high  \\\n",
       "0                          4                          0   \n",
       "1                          3                          0   \n",
       "2                          3                          0   \n",
       "3                          2                          1   \n",
       "4                        108                         17   \n",
       "\n",
       "   big_church_count_5000  church_count_5000  mosque_count_5000  \\\n",
       "0                     13                 22                  1   \n",
       "1                     15                 29                  1   \n",
       "2                     11                 27                  0   \n",
       "3                      4                  4                  0   \n",
       "4                    135                236                  2   \n",
       "\n",
       "   leisure_count_5000  sport_count_5000  market_count_5000  price_doc  \n",
       "0                   0                52                  4    5850000  \n",
       "1                  10                66                 14    6000000  \n",
       "2                   4                67                 10    5700000  \n",
       "3                   0                26                  3   13100000  \n",
       "4                  91               195                 14   16331452  \n",
       "\n",
       "[5 rows x 292 columns]"
      ]
     },
     "execution_count": 3,
     "metadata": {},
     "output_type": "execute_result"
    }
   ],
   "source": [
    "df.head()"
   ]
  },
  {
   "cell_type": "code",
   "execution_count": 4,
   "metadata": {},
   "outputs": [
    {
     "data": {
      "text/plain": [
       "(30471, 292)"
      ]
     },
     "execution_count": 4,
     "metadata": {},
     "output_type": "execute_result"
    }
   ],
   "source": [
    "df.shape"
   ]
  },
  {
   "cell_type": "markdown",
   "metadata": {},
   "source": [
    "**Just for this quick submission, drop all features that have NaN values**"
   ]
  },
  {
   "cell_type": "code",
   "execution_count": 3,
   "metadata": {
    "collapsed": true
   },
   "outputs": [],
   "source": [
    "df = df.dropna()"
   ]
  },
  {
   "cell_type": "markdown",
   "metadata": {},
   "source": [
    "**Identify features that have > 0.25 correlation with the target variable**"
   ]
  },
  {
   "cell_type": "code",
   "execution_count": 4,
   "metadata": {
    "collapsed": true
   },
   "outputs": [],
   "source": [
    "x = df[['full_sq','life_sq','num_room','kitch_sq','office_sqm_5000','cafe_count_5000_price_high',\n",
    "       'cafe_count_5000_price_2500','ID_metro','cafe_count_5000_price_1500','cafe_count_5000',\n",
    "       'cafe_count_5000_price_1000','cafe_count_5000_price_4000']]\n",
    "y = df['price_doc']"
   ]
  },
  {
   "cell_type": "code",
   "execution_count": 5,
   "metadata": {
    "scrolled": true
   },
   "outputs": [
    {
     "data": {
      "text/plain": [
       "price_doc                     1.000000\n",
       "full_sq                       0.675455\n",
       "life_sq                       0.524602\n",
       "num_room                      0.478370\n",
       "kitch_sq                      0.368339\n",
       "office_sqm_5000               0.271088\n",
       "cafe_count_5000_price_high    0.260564\n",
       "cafe_count_5000_price_2500    0.260002\n",
       "ID_metro                      0.257857\n",
       "cafe_count_5000_price_1500    0.257182\n",
       "cafe_count_5000               0.254917\n",
       "cafe_count_5000_price_1000    0.254544\n",
       "cafe_count_5000_price_4000    0.253283\n",
       "Name: price_doc, dtype: float64"
      ]
     },
     "execution_count": 5,
     "metadata": {},
     "output_type": "execute_result"
    }
   ],
   "source": [
    "df.corr()['price_doc'].sort_values(ascending = False).head(13)"
   ]
  },
  {
   "cell_type": "markdown",
   "metadata": {},
   "source": [
    "**Create functions for our pipeline**"
   ]
  },
  {
   "cell_type": "code",
   "execution_count": 6,
   "metadata": {
    "collapsed": true
   },
   "outputs": [],
   "source": [
    "def fullsq(data):\n",
    "    return data['full_sq'].values.reshape(-1,1)\n",
    "\n",
    "def lifesq(data):\n",
    "    return data['life_sq'].values.reshape(-1,1)\n",
    "\n",
    "def numroom(data):\n",
    "    return data['num_room'].values.reshape(-1,1)\n",
    "\n",
    "def kitchsq(data):\n",
    "    return data['kitch_sq'].values.reshape(-1,1)\n",
    "\n",
    "def officesqm(data):\n",
    "    return data['office_sqm_5000'].values.reshape(-1,1)\n",
    "\n",
    "def cafecounthigh(data):\n",
    "    return data['cafe_count_5000_price_high'].values.reshape(-1,1)\n",
    "\n",
    "def cafecount2500(data):\n",
    "    return data['cafe_count_5000_price_2500'].values.reshape(-1,1)\n",
    "\n",
    "def metro(data):\n",
    "    return data['ID_metro'].values.reshape(-1,1)\n",
    "\n",
    "def cafecount1500(data):\n",
    "    return data['cafe_count_5000_price_1500'].values.reshape(-1,1)\n",
    "\n",
    "def cafecount(data):\n",
    "    return data['cafe_count_5000'].values.reshape(-1,1)\n",
    "\n",
    "def cafecount1000(data):\n",
    "    return data['cafe_count_5000_price_1000'].values.reshape(-1,1)\n",
    "\n",
    "def cafecount4000(data):\n",
    "    return data['cafe_count_5000_price_4000'].values.reshape(-1,1)"
   ]
  },
  {
   "cell_type": "code",
   "execution_count": 7,
   "metadata": {
    "collapsed": true
   },
   "outputs": [],
   "source": [
    "from sklearn.pipeline import Pipeline, make_pipeline, make_union, FeatureUnion\n",
    "from sklearn import metrics\n",
    "from sklearn.preprocessing import FunctionTransformer,Binarizer, Imputer, LabelBinarizer"
   ]
  },
  {
   "cell_type": "code",
   "execution_count": 8,
   "metadata": {
    "collapsed": true
   },
   "outputs": [],
   "source": [
    "fullsq_pipe = make_pipeline(FunctionTransformer(fullsq, validate = False),\n",
    "                           Imputer(),)\n",
    "\n",
    "lifesq_pipe = make_pipeline(FunctionTransformer(lifesq, validate = False),\n",
    "                           Imputer())\n",
    "\n",
    "numroom_pipe = make_pipeline(FunctionTransformer(numroom, validate = False),\n",
    "                           Imputer())\n",
    "\n",
    "kitchsq_pipe = make_pipeline(FunctionTransformer(kitchsq, validate = False),\n",
    "                           Imputer())\n",
    "\n",
    "officesqm_pipe = make_pipeline(FunctionTransformer(officesqm, validate = False),\n",
    "                           Imputer())\n",
    "\n",
    "cafecounthigh_pipe = make_pipeline(FunctionTransformer(cafecounthigh, validate = False),\n",
    "                           Imputer())\n",
    "\n",
    "cafecount2500_pipe = make_pipeline(FunctionTransformer(cafecount2500, validate = False),\n",
    "                           Imputer())\n",
    "\n",
    "metro_pipe = make_pipeline(FunctionTransformer(metro, validate = False),\n",
    "                           Imputer())\n",
    "\n",
    "cafecount1500_pipe = make_pipeline(FunctionTransformer(cafecount1500, validate = False),\n",
    "                           Imputer())\n",
    "\n",
    "cafecount_pipe = make_pipeline(FunctionTransformer(cafecount, validate = False),\n",
    "                           Imputer())\n",
    "\n",
    "cafecount1000_pipe = make_pipeline(FunctionTransformer(cafecount1000, validate = False),\n",
    "                           Imputer())\n",
    "\n",
    "cafecount4000_pipe = make_pipeline(FunctionTransformer(cafecount4000, validate = False),\n",
    "                           Imputer())"
   ]
  },
  {
   "cell_type": "code",
   "execution_count": 9,
   "metadata": {
    "collapsed": true
   },
   "outputs": [],
   "source": [
    "fu = make_union(fullsq_pipe, lifesq_pipe, numroom_pipe, kitchsq_pipe, officesqm_pipe, cafecounthigh_pipe, \n",
    "                cafecount2500_pipe, metro_pipe, cafecount1500_pipe, cafecount_pipe, cafecount1000_pipe, \n",
    "               cafecount4000_pipe)"
   ]
  },
  {
   "cell_type": "markdown",
   "metadata": {},
   "source": [
    "**Standardize our features**"
   ]
  },
  {
   "cell_type": "code",
   "execution_count": 12,
   "metadata": {},
   "outputs": [
    {
     "data": {
      "text/html": [
       "<div>\n",
       "<style>\n",
       "    .dataframe thead tr:only-child th {\n",
       "        text-align: right;\n",
       "    }\n",
       "\n",
       "    .dataframe thead th {\n",
       "        text-align: left;\n",
       "    }\n",
       "\n",
       "    .dataframe tbody tr th {\n",
       "        vertical-align: top;\n",
       "    }\n",
       "</style>\n",
       "<table border=\"1\" class=\"dataframe\">\n",
       "  <thead>\n",
       "    <tr style=\"text-align: right;\">\n",
       "      <th></th>\n",
       "      <th>full_sq</th>\n",
       "      <th>life_sq</th>\n",
       "      <th>num_room</th>\n",
       "      <th>kitch_sq</th>\n",
       "      <th>office_sqm_5000</th>\n",
       "      <th>cafe_count_5000_price_high</th>\n",
       "      <th>cafe_count_5000_price_2500</th>\n",
       "      <th>ID_metro</th>\n",
       "      <th>cafe_count_5000_price_1500</th>\n",
       "      <th>cafe_count_5000</th>\n",
       "      <th>cafe_count_5000_price_1000</th>\n",
       "      <th>cafe_count_5000_price_4000</th>\n",
       "    </tr>\n",
       "  </thead>\n",
       "  <tbody>\n",
       "    <tr>\n",
       "      <th>0</th>\n",
       "      <td>-1.764874</td>\n",
       "      <td>-1.099593</td>\n",
       "      <td>-1.120942</td>\n",
       "      <td>1.210995</td>\n",
       "      <td>2.876516</td>\n",
       "      <td>3.096153</td>\n",
       "      <td>2.905469</td>\n",
       "      <td>-0.107712</td>\n",
       "      <td>2.812098</td>\n",
       "      <td>2.756136</td>\n",
       "      <td>2.568620</td>\n",
       "      <td>3.016623</td>\n",
       "    </tr>\n",
       "    <tr>\n",
       "      <th>1</th>\n",
       "      <td>-0.348795</td>\n",
       "      <td>-0.307056</td>\n",
       "      <td>0.003349</td>\n",
       "      <td>-0.365512</td>\n",
       "      <td>-0.909627</td>\n",
       "      <td>-0.497139</td>\n",
       "      <td>-0.633520</td>\n",
       "      <td>-0.127036</td>\n",
       "      <td>-0.681058</td>\n",
       "      <td>-0.718822</td>\n",
       "      <td>-0.828458</td>\n",
       "      <td>-0.543710</td>\n",
       "    </tr>\n",
       "    <tr>\n",
       "      <th>2</th>\n",
       "      <td>0.983986</td>\n",
       "      <td>0.832216</td>\n",
       "      <td>1.127641</td>\n",
       "      <td>0.159990</td>\n",
       "      <td>1.531828</td>\n",
       "      <td>2.405135</td>\n",
       "      <td>1.592788</td>\n",
       "      <td>1.496140</td>\n",
       "      <td>1.249705</td>\n",
       "      <td>1.453027</td>\n",
       "      <td>1.419233</td>\n",
       "      <td>1.688140</td>\n",
       "    </tr>\n",
       "    <tr>\n",
       "      <th>3</th>\n",
       "      <td>0.109349</td>\n",
       "      <td>-0.207988</td>\n",
       "      <td>0.003349</td>\n",
       "      <td>0.685492</td>\n",
       "      <td>0.900906</td>\n",
       "      <td>0.608489</td>\n",
       "      <td>0.122585</td>\n",
       "      <td>1.399523</td>\n",
       "      <td>-0.045938</td>\n",
       "      <td>0.040942</td>\n",
       "      <td>0.008041</td>\n",
       "      <td>0.279949</td>\n",
       "    </tr>\n",
       "    <tr>\n",
       "      <th>4</th>\n",
       "      <td>-0.931886</td>\n",
       "      <td>-0.604257</td>\n",
       "      <td>-1.120942</td>\n",
       "      <td>-0.628263</td>\n",
       "      <td>0.569077</td>\n",
       "      <td>0.608489</td>\n",
       "      <td>0.385121</td>\n",
       "      <td>1.824640</td>\n",
       "      <td>0.227163</td>\n",
       "      <td>0.160662</td>\n",
       "      <td>0.020811</td>\n",
       "      <td>0.572215</td>\n",
       "    </tr>\n",
       "  </tbody>\n",
       "</table>\n",
       "</div>"
      ],
      "text/plain": [
       "    full_sq   life_sq  num_room  kitch_sq  office_sqm_5000  \\\n",
       "0 -1.764874 -1.099593 -1.120942  1.210995         2.876516   \n",
       "1 -0.348795 -0.307056  0.003349 -0.365512        -0.909627   \n",
       "2  0.983986  0.832216  1.127641  0.159990         1.531828   \n",
       "3  0.109349 -0.207988  0.003349  0.685492         0.900906   \n",
       "4 -0.931886 -0.604257 -1.120942 -0.628263         0.569077   \n",
       "\n",
       "   cafe_count_5000_price_high  cafe_count_5000_price_2500  ID_metro  \\\n",
       "0                    3.096153                    2.905469 -0.107712   \n",
       "1                   -0.497139                   -0.633520 -0.127036   \n",
       "2                    2.405135                    1.592788  1.496140   \n",
       "3                    0.608489                    0.122585  1.399523   \n",
       "4                    0.608489                    0.385121  1.824640   \n",
       "\n",
       "   cafe_count_5000_price_1500  cafe_count_5000  cafe_count_5000_price_1000  \\\n",
       "0                    2.812098         2.756136                    2.568620   \n",
       "1                   -0.681058        -0.718822                   -0.828458   \n",
       "2                    1.249705         1.453027                    1.419233   \n",
       "3                   -0.045938         0.040942                    0.008041   \n",
       "4                    0.227163         0.160662                    0.020811   \n",
       "\n",
       "   cafe_count_5000_price_4000  \n",
       "0                    3.016623  \n",
       "1                   -0.543710  \n",
       "2                    1.688140  \n",
       "3                    0.279949  \n",
       "4                    0.572215  "
      ]
     },
     "execution_count": 12,
     "metadata": {},
     "output_type": "execute_result"
    }
   ],
   "source": [
    "x_std = StandardScaler().fit_transform(x)\n",
    "x_std = pd.DataFrame(x_std, columns = x.columns)\n",
    "x_std.head()"
   ]
  },
  {
   "cell_type": "code",
   "execution_count": 13,
   "metadata": {},
   "outputs": [
    {
     "data": {
      "text/plain": [
       "FeatureUnion(n_jobs=1,\n",
       "       transformer_list=[('pipeline-1', Pipeline(steps=[('functiontransformer', FunctionTransformer(accept_sparse=False,\n",
       "          func=<function fullsq at 0x11b7c7c80>, inv_kw_args=None,\n",
       "          inverse_func=None, kw_args=None, pass_y=False, validate=False)), ('imputer', Imputer(axis=0, copy=True, missi...lse)), ('imputer', Imputer(axis=0, copy=True, missing_values='NaN', strategy='mean', verbose=0))]))],\n",
       "       transformer_weights=None)"
      ]
     },
     "execution_count": 13,
     "metadata": {},
     "output_type": "execute_result"
    }
   ],
   "source": [
    "fu.fit(x_std)"
   ]
  },
  {
   "cell_type": "code",
   "execution_count": 14,
   "metadata": {
    "collapsed": true
   },
   "outputs": [],
   "source": [
    "test = pd.read_csv('test.csv')"
   ]
  },
  {
   "cell_type": "code",
   "execution_count": 11,
   "metadata": {
    "collapsed": true
   },
   "outputs": [],
   "source": [
    "from sklearn.preprocessing import StandardScaler"
   ]
  },
  {
   "cell_type": "code",
   "execution_count": 15,
   "metadata": {
    "collapsed": true
   },
   "outputs": [],
   "source": [
    "from sklearn.linear_model import LinearRegression"
   ]
  },
  {
   "cell_type": "code",
   "execution_count": 16,
   "metadata": {
    "collapsed": true
   },
   "outputs": [],
   "source": [
    "ln = LinearRegression()"
   ]
  },
  {
   "cell_type": "code",
   "execution_count": 17,
   "metadata": {
    "collapsed": true
   },
   "outputs": [],
   "source": [
    "from sklearn.model_selection import train_test_split"
   ]
  },
  {
   "cell_type": "code",
   "execution_count": 18,
   "metadata": {
    "collapsed": true
   },
   "outputs": [],
   "source": [
    "pipex = fu.transform(df)"
   ]
  },
  {
   "cell_type": "markdown",
   "metadata": {},
   "source": [
    "**Train test split our features**"
   ]
  },
  {
   "cell_type": "code",
   "execution_count": 19,
   "metadata": {
    "collapsed": true
   },
   "outputs": [],
   "source": [
    "x_train, x_test, y_train, y_test = train_test_split(pipex, y, test_size = 0.3)"
   ]
  },
  {
   "cell_type": "code",
   "execution_count": 1,
   "metadata": {
    "collapsed": true
   },
   "outputs": [],
   "source": [
    "from sklearn.model_selection import GridSearchCV\n",
    "from sklearn.metrics import make_scorer"
   ]
  },
  {
   "cell_type": "markdown",
   "metadata": {},
   "source": [
    "**Cross validate with GridSearchCV using Linear Regression model**"
   ]
  },
  {
   "cell_type": "code",
   "execution_count": 21,
   "metadata": {
    "collapsed": true
   },
   "outputs": [],
   "source": [
    "gs = GridSearchCV(ln, param_grid = {}, scoring = make_scorer(metrics.mean_squared_error))"
   ]
  },
  {
   "cell_type": "code",
   "execution_count": 22,
   "metadata": {},
   "outputs": [
    {
     "data": {
      "text/plain": [
       "GridSearchCV(cv=None, error_score='raise',\n",
       "       estimator=LinearRegression(copy_X=True, fit_intercept=True, n_jobs=1, normalize=False),\n",
       "       fit_params={}, iid=True, n_jobs=1, param_grid={},\n",
       "       pre_dispatch='2*n_jobs', refit=True, return_train_score=True,\n",
       "       scoring=make_scorer(mean_squared_error), verbose=0)"
      ]
     },
     "execution_count": 22,
     "metadata": {},
     "output_type": "execute_result"
    }
   ],
   "source": [
    "gs.fit(x_train, y_train)"
   ]
  },
  {
   "cell_type": "code",
   "execution_count": 23,
   "metadata": {},
   "outputs": [
    {
     "data": {
      "text/plain": [
       "0.52488875490899733"
      ]
     },
     "execution_count": 23,
     "metadata": {},
     "output_type": "execute_result"
    }
   ],
   "source": [
    "gs.best_estimator_.score(x_train, y_train)"
   ]
  },
  {
   "cell_type": "code",
   "execution_count": 24,
   "metadata": {},
   "outputs": [
    {
     "data": {
      "text/plain": [
       "0.48242950104796889"
      ]
     },
     "execution_count": 24,
     "metadata": {},
     "output_type": "execute_result"
    }
   ],
   "source": [
    "gs.best_estimator_.score(x_test, y_test)"
   ]
  },
  {
   "cell_type": "code",
   "execution_count": 25,
   "metadata": {
    "collapsed": true
   },
   "outputs": [],
   "source": [
    "pipetest = fu.transform(test)"
   ]
  },
  {
   "cell_type": "markdown",
   "metadata": {
    "collapsed": true
   },
   "source": [
    "**Repeating with Random Forest Regressor**"
   ]
  },
  {
   "cell_type": "code",
   "execution_count": 26,
   "metadata": {
    "collapsed": true
   },
   "outputs": [],
   "source": [
    "from sklearn.ensemble import RandomForestRegressor"
   ]
  },
  {
   "cell_type": "code",
   "execution_count": 27,
   "metadata": {
    "collapsed": true
   },
   "outputs": [],
   "source": [
    "rf = RandomForestRegressor()"
   ]
  },
  {
   "cell_type": "code",
   "execution_count": 28,
   "metadata": {
    "collapsed": true
   },
   "outputs": [],
   "source": [
    "gs1 = GridSearchCV(rf, param_grid = {}, scoring = make_scorer(metrics.mean_squared_error))"
   ]
  },
  {
   "cell_type": "code",
   "execution_count": 29,
   "metadata": {},
   "outputs": [
    {
     "data": {
      "text/plain": [
       "GridSearchCV(cv=None, error_score='raise',\n",
       "       estimator=RandomForestRegressor(bootstrap=True, criterion='mse', max_depth=None,\n",
       "           max_features='auto', max_leaf_nodes=None,\n",
       "           min_impurity_split=1e-07, min_samples_leaf=1,\n",
       "           min_samples_split=2, min_weight_fraction_leaf=0.0,\n",
       "           n_estimators=10, n_jobs=1, oob_score=False, random_state=None,\n",
       "           verbose=0, warm_start=False),\n",
       "       fit_params={}, iid=True, n_jobs=1, param_grid={},\n",
       "       pre_dispatch='2*n_jobs', refit=True, return_train_score=True,\n",
       "       scoring=make_scorer(mean_squared_error), verbose=0)"
      ]
     },
     "execution_count": 29,
     "metadata": {},
     "output_type": "execute_result"
    }
   ],
   "source": [
    "gs1.fit(x_train, y_train)"
   ]
  },
  {
   "cell_type": "code",
   "execution_count": 30,
   "metadata": {},
   "outputs": [
    {
     "data": {
      "text/plain": [
       "0.93533402219834161"
      ]
     },
     "execution_count": 30,
     "metadata": {},
     "output_type": "execute_result"
    }
   ],
   "source": [
    "gs1.best_estimator_.score(x_train, y_train)"
   ]
  },
  {
   "cell_type": "code",
   "execution_count": 31,
   "metadata": {},
   "outputs": [
    {
     "data": {
      "text/plain": [
       "0.49215344805003158"
      ]
     },
     "execution_count": 31,
     "metadata": {},
     "output_type": "execute_result"
    }
   ],
   "source": [
    "gs1.best_estimator_.score(x_test, y_test)"
   ]
  },
  {
   "cell_type": "markdown",
   "metadata": {
    "collapsed": true
   },
   "source": [
    "**Repeating with XGBoost Regressor**"
   ]
  },
  {
   "cell_type": "code",
   "execution_count": 32,
   "metadata": {
    "collapsed": true
   },
   "outputs": [],
   "source": [
    "from xgboost import XGBRegressor"
   ]
  },
  {
   "cell_type": "code",
   "execution_count": 33,
   "metadata": {
    "collapsed": true
   },
   "outputs": [],
   "source": [
    "xgb = XGBRegressor()"
   ]
  },
  {
   "cell_type": "code",
   "execution_count": 34,
   "metadata": {
    "collapsed": true
   },
   "outputs": [],
   "source": [
    "gs2 = GridSearchCV(xgb, param_grid = {}, scoring = make_scorer(metrics.mean_squared_error))"
   ]
  },
  {
   "cell_type": "code",
   "execution_count": 35,
   "metadata": {},
   "outputs": [
    {
     "data": {
      "text/plain": [
       "GridSearchCV(cv=None, error_score='raise',\n",
       "       estimator=XGBRegressor(base_score=0.5, colsample_bylevel=1, colsample_bytree=1, gamma=0,\n",
       "       learning_rate=0.1, max_delta_step=0, max_depth=3,\n",
       "       min_child_weight=1, missing=None, n_estimators=100, nthread=-1,\n",
       "       objective='reg:linear', reg_alpha=0, reg_lambda=1,\n",
       "       scale_pos_weight=1, seed=0, silent=True, subsample=1),\n",
       "       fit_params={}, iid=True, n_jobs=1, param_grid={},\n",
       "       pre_dispatch='2*n_jobs', refit=True, return_train_score=True,\n",
       "       scoring=make_scorer(mean_squared_error), verbose=0)"
      ]
     },
     "execution_count": 35,
     "metadata": {},
     "output_type": "execute_result"
    }
   ],
   "source": [
    "gs2.fit(x_train, y_train)"
   ]
  },
  {
   "cell_type": "code",
   "execution_count": 36,
   "metadata": {},
   "outputs": [
    {
     "data": {
      "text/plain": [
       "0.7805009818498716"
      ]
     },
     "execution_count": 36,
     "metadata": {},
     "output_type": "execute_result"
    }
   ],
   "source": [
    "gs2.best_estimator_.score(x_train, y_train)"
   ]
  },
  {
   "cell_type": "code",
   "execution_count": 37,
   "metadata": {},
   "outputs": [
    {
     "data": {
      "text/plain": [
       "0.56157292892551924"
      ]
     },
     "execution_count": 37,
     "metadata": {},
     "output_type": "execute_result"
    }
   ],
   "source": [
    "gs2.best_estimator_.score(x_test, y_test)"
   ]
  },
  {
   "cell_type": "markdown",
   "metadata": {
    "collapsed": true
   },
   "source": [
    "**For quick submission, no parameter tuning**"
   ]
  },
  {
   "cell_type": "markdown",
   "metadata": {
    "collapsed": true
   },
   "source": [
    "**Function for creating Kaggle submission**"
   ]
  },
  {
   "cell_type": "code",
   "execution_count": 38,
   "metadata": {
    "collapsed": true
   },
   "outputs": [],
   "source": [
    "def evaluation_transformation(dataset, predictions):\n",
    "    dataset = dataset.join(pd.DataFrame(predictions, columns=['price_doc']))\n",
    "    dataset[['id', 'price_doc']].to_csv('submission2.csv', index=False)\n",
    "\n",
    "predictions = gs2.best_estimator_.predict(pipetest)\n",
    "evaluation_transformation(test, np.abs(predictions))"
   ]
  },
  {
   "cell_type": "markdown",
   "metadata": {
    "collapsed": true
   },
   "source": [
    "**To be improved on**"
   ]
  }
 ],
 "metadata": {
  "kernelspec": {
   "display_name": "Python 3",
   "language": "python",
   "name": "python3"
  },
  "language_info": {
   "codemirror_mode": {
    "name": "ipython",
    "version": 3
   },
   "file_extension": ".py",
   "mimetype": "text/x-python",
   "name": "python",
   "nbconvert_exporter": "python",
   "pygments_lexer": "ipython3",
   "version": "3.6.0"
  }
 },
 "nbformat": 4,
 "nbformat_minor": 2
}
